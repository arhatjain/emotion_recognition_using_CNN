{
  "cells": [
    {
      "cell_type": "code",
      "execution_count": null,
      "metadata": {
        "id": "tFfvk9Jcc7UQ"
      },
      "outputs": [],
      "source": [
        "import tensorflow as tf\n",
        "import numpy as np\n",
        "import pandas as pd\n",
        "from matplotlib import pyplot as plt\n",
        "from tensorflow import keras\n",
        "%matplotlib inline\n"
      ]
    },
    {
      "cell_type": "code",
      "execution_count": null,
      "metadata": {
        "id": "rVYUv6tfc7US"
      },
      "outputs": [],
      "source": [
        "data= pd.read_csv('D:\\dl_dataset/facial_emotion_recognition/fer2013.csv')"
      ]
    },
    {
      "cell_type": "code",
      "execution_count": null,
      "metadata": {
        "id": "smg9ydGAc7UT"
      },
      "outputs": [],
      "source": [
        "import cv2 "
      ]
    },
    {
      "cell_type": "code",
      "execution_count": null,
      "metadata": {
        "id": "L64ZdI2Vc7UU",
        "outputId": "4d4943e5-bcaf-4be3-f183-022d66b83030"
      },
      "outputs": [
        {
          "data": {
            "text/html": [
              "<div>\n",
              "<style scoped>\n",
              "    .dataframe tbody tr th:only-of-type {\n",
              "        vertical-align: middle;\n",
              "    }\n",
              "\n",
              "    .dataframe tbody tr th {\n",
              "        vertical-align: top;\n",
              "    }\n",
              "\n",
              "    .dataframe thead th {\n",
              "        text-align: right;\n",
              "    }\n",
              "</style>\n",
              "<table border=\"1\" class=\"dataframe\">\n",
              "  <thead>\n",
              "    <tr style=\"text-align: right;\">\n",
              "      <th></th>\n",
              "      <th>emotion</th>\n",
              "      <th>pixels</th>\n",
              "      <th>Usage</th>\n",
              "    </tr>\n",
              "  </thead>\n",
              "  <tbody>\n",
              "    <tr>\n",
              "      <th>0</th>\n",
              "      <td>0</td>\n",
              "      <td>70 80 82 72 58 58 60 63 54 58 60 48 89 115 121...</td>\n",
              "      <td>Training</td>\n",
              "    </tr>\n",
              "    <tr>\n",
              "      <th>1</th>\n",
              "      <td>0</td>\n",
              "      <td>151 150 147 155 148 133 111 140 170 174 182 15...</td>\n",
              "      <td>Training</td>\n",
              "    </tr>\n",
              "    <tr>\n",
              "      <th>2</th>\n",
              "      <td>2</td>\n",
              "      <td>231 212 156 164 174 138 161 173 182 200 106 38...</td>\n",
              "      <td>Training</td>\n",
              "    </tr>\n",
              "    <tr>\n",
              "      <th>3</th>\n",
              "      <td>4</td>\n",
              "      <td>24 32 36 30 32 23 19 20 30 41 21 22 32 34 21 1...</td>\n",
              "      <td>Training</td>\n",
              "    </tr>\n",
              "    <tr>\n",
              "      <th>4</th>\n",
              "      <td>6</td>\n",
              "      <td>4 0 0 0 0 0 0 0 0 0 0 0 3 15 23 28 48 50 58 84...</td>\n",
              "      <td>Training</td>\n",
              "    </tr>\n",
              "    <tr>\n",
              "      <th>...</th>\n",
              "      <td>...</td>\n",
              "      <td>...</td>\n",
              "      <td>...</td>\n",
              "    </tr>\n",
              "    <tr>\n",
              "      <th>35882</th>\n",
              "      <td>6</td>\n",
              "      <td>50 36 17 22 23 29 33 39 34 37 37 37 39 43 48 5...</td>\n",
              "      <td>PrivateTest</td>\n",
              "    </tr>\n",
              "    <tr>\n",
              "      <th>35883</th>\n",
              "      <td>3</td>\n",
              "      <td>178 174 172 173 181 188 191 194 196 199 200 20...</td>\n",
              "      <td>PrivateTest</td>\n",
              "    </tr>\n",
              "    <tr>\n",
              "      <th>35884</th>\n",
              "      <td>0</td>\n",
              "      <td>17 17 16 23 28 22 19 17 25 26 20 24 31 19 27 9...</td>\n",
              "      <td>PrivateTest</td>\n",
              "    </tr>\n",
              "    <tr>\n",
              "      <th>35885</th>\n",
              "      <td>3</td>\n",
              "      <td>30 28 28 29 31 30 42 68 79 81 77 67 67 71 63 6...</td>\n",
              "      <td>PrivateTest</td>\n",
              "    </tr>\n",
              "    <tr>\n",
              "      <th>35886</th>\n",
              "      <td>2</td>\n",
              "      <td>19 13 14 12 13 16 21 33 50 57 71 84 97 108 122...</td>\n",
              "      <td>PrivateTest</td>\n",
              "    </tr>\n",
              "  </tbody>\n",
              "</table>\n",
              "<p>35887 rows × 3 columns</p>\n",
              "</div>"
            ],
            "text/plain": [
              "       emotion                                             pixels        Usage\n",
              "0            0  70 80 82 72 58 58 60 63 54 58 60 48 89 115 121...     Training\n",
              "1            0  151 150 147 155 148 133 111 140 170 174 182 15...     Training\n",
              "2            2  231 212 156 164 174 138 161 173 182 200 106 38...     Training\n",
              "3            4  24 32 36 30 32 23 19 20 30 41 21 22 32 34 21 1...     Training\n",
              "4            6  4 0 0 0 0 0 0 0 0 0 0 0 3 15 23 28 48 50 58 84...     Training\n",
              "...        ...                                                ...          ...\n",
              "35882        6  50 36 17 22 23 29 33 39 34 37 37 37 39 43 48 5...  PrivateTest\n",
              "35883        3  178 174 172 173 181 188 191 194 196 199 200 20...  PrivateTest\n",
              "35884        0  17 17 16 23 28 22 19 17 25 26 20 24 31 19 27 9...  PrivateTest\n",
              "35885        3  30 28 28 29 31 30 42 68 79 81 77 67 67 71 63 6...  PrivateTest\n",
              "35886        2  19 13 14 12 13 16 21 33 50 57 71 84 97 108 122...  PrivateTest\n",
              "\n",
              "[35887 rows x 3 columns]"
            ]
          },
          "execution_count": 5,
          "metadata": {},
          "output_type": "execute_result"
        }
      ],
      "source": [
        "data"
      ]
    },
    {
      "cell_type": "code",
      "execution_count": null,
      "metadata": {
        "id": "NF4aDpitc7UV",
        "outputId": "ac4ac621-585f-463b-9ada-18383cf0f76e"
      },
      "outputs": [
        {
          "name": "stdout",
          "output_type": "stream",
          "text": [
            "<class 'pandas.core.frame.DataFrame'>\n",
            "RangeIndex: 35887 entries, 0 to 35886\n",
            "Data columns (total 3 columns):\n",
            " #   Column   Non-Null Count  Dtype \n",
            "---  ------   --------------  ----- \n",
            " 0   emotion  35887 non-null  int64 \n",
            " 1   pixels   35887 non-null  object\n",
            " 2   Usage    35887 non-null  object\n",
            "dtypes: int64(1), object(2)\n",
            "memory usage: 841.2+ KB\n"
          ]
        }
      ],
      "source": [
        "data.info()"
      ]
    },
    {
      "cell_type": "code",
      "execution_count": null,
      "metadata": {
        "id": "4mVhWvPMc7UV"
      },
      "outputs": [],
      "source": [
        "labels=data['emotion']"
      ]
    },
    {
      "cell_type": "code",
      "execution_count": null,
      "metadata": {
        "id": "SPokaKnRc7UX",
        "outputId": "c7bd1ece-e590-4e88-d706-a654d6503872"
      },
      "outputs": [
        {
          "name": "stdout",
          "output_type": "stream",
          "text": [
            "35887\n"
          ]
        }
      ],
      "source": [
        "print(len(labels))"
      ]
    },
    {
      "cell_type": "code",
      "execution_count": null,
      "metadata": {
        "id": "ogRBpxwUc7UX",
        "outputId": "ad0f251c-13af-4f59-e42f-27cd0826a912"
      },
      "outputs": [
        {
          "data": {
            "text/plain": [
              "emotion                                                    0\n",
              "pixels     70 80 82 72 58 58 60 63 54 58 60 48 89 115 121...\n",
              "Usage                                               Training\n",
              "Name: 0, dtype: object"
            ]
          },
          "execution_count": 9,
          "metadata": {},
          "output_type": "execute_result"
        }
      ],
      "source": [
        "data.iloc[0]"
      ]
    },
    {
      "cell_type": "code",
      "execution_count": null,
      "metadata": {
        "id": "DfJcDVXkc7UX"
      },
      "outputs": [],
      "source": [
        ""
      ]
    },
    {
      "cell_type": "code",
      "execution_count": null,
      "metadata": {
        "id": "B1KbIvbvc7UY",
        "outputId": "2789532a-0f75-4d0c-f933-58dbf42f2459"
      },
      "outputs": [
        {
          "data": {
            "text/html": [
              "<div>\n",
              "<style scoped>\n",
              "    .dataframe tbody tr th:only-of-type {\n",
              "        vertical-align: middle;\n",
              "    }\n",
              "\n",
              "    .dataframe tbody tr th {\n",
              "        vertical-align: top;\n",
              "    }\n",
              "\n",
              "    .dataframe thead th {\n",
              "        text-align: right;\n",
              "    }\n",
              "</style>\n",
              "<table border=\"1\" class=\"dataframe\">\n",
              "  <thead>\n",
              "    <tr style=\"text-align: right;\">\n",
              "      <th></th>\n",
              "      <th>emotion</th>\n",
              "      <th>pixels</th>\n",
              "      <th>Usage</th>\n",
              "    </tr>\n",
              "  </thead>\n",
              "  <tbody>\n",
              "    <tr>\n",
              "      <th>0</th>\n",
              "      <td>0</td>\n",
              "      <td>70 80 82 72 58 58 60 63 54 58 60 48 89 115 121...</td>\n",
              "      <td>Training</td>\n",
              "    </tr>\n",
              "    <tr>\n",
              "      <th>1</th>\n",
              "      <td>0</td>\n",
              "      <td>151 150 147 155 148 133 111 140 170 174 182 15...</td>\n",
              "      <td>Training</td>\n",
              "    </tr>\n",
              "    <tr>\n",
              "      <th>2</th>\n",
              "      <td>2</td>\n",
              "      <td>231 212 156 164 174 138 161 173 182 200 106 38...</td>\n",
              "      <td>Training</td>\n",
              "    </tr>\n",
              "    <tr>\n",
              "      <th>3</th>\n",
              "      <td>4</td>\n",
              "      <td>24 32 36 30 32 23 19 20 30 41 21 22 32 34 21 1...</td>\n",
              "      <td>Training</td>\n",
              "    </tr>\n",
              "    <tr>\n",
              "      <th>4</th>\n",
              "      <td>6</td>\n",
              "      <td>4 0 0 0 0 0 0 0 0 0 0 0 3 15 23 28 48 50 58 84...</td>\n",
              "      <td>Training</td>\n",
              "    </tr>\n",
              "    <tr>\n",
              "      <th>...</th>\n",
              "      <td>...</td>\n",
              "      <td>...</td>\n",
              "      <td>...</td>\n",
              "    </tr>\n",
              "    <tr>\n",
              "      <th>35882</th>\n",
              "      <td>6</td>\n",
              "      <td>50 36 17 22 23 29 33 39 34 37 37 37 39 43 48 5...</td>\n",
              "      <td>PrivateTest</td>\n",
              "    </tr>\n",
              "    <tr>\n",
              "      <th>35883</th>\n",
              "      <td>3</td>\n",
              "      <td>178 174 172 173 181 188 191 194 196 199 200 20...</td>\n",
              "      <td>PrivateTest</td>\n",
              "    </tr>\n",
              "    <tr>\n",
              "      <th>35884</th>\n",
              "      <td>0</td>\n",
              "      <td>17 17 16 23 28 22 19 17 25 26 20 24 31 19 27 9...</td>\n",
              "      <td>PrivateTest</td>\n",
              "    </tr>\n",
              "    <tr>\n",
              "      <th>35885</th>\n",
              "      <td>3</td>\n",
              "      <td>30 28 28 29 31 30 42 68 79 81 77 67 67 71 63 6...</td>\n",
              "      <td>PrivateTest</td>\n",
              "    </tr>\n",
              "    <tr>\n",
              "      <th>35886</th>\n",
              "      <td>2</td>\n",
              "      <td>19 13 14 12 13 16 21 33 50 57 71 84 97 108 122...</td>\n",
              "      <td>PrivateTest</td>\n",
              "    </tr>\n",
              "  </tbody>\n",
              "</table>\n",
              "<p>35887 rows × 3 columns</p>\n",
              "</div>"
            ],
            "text/plain": [
              "       emotion                                             pixels        Usage\n",
              "0            0  70 80 82 72 58 58 60 63 54 58 60 48 89 115 121...     Training\n",
              "1            0  151 150 147 155 148 133 111 140 170 174 182 15...     Training\n",
              "2            2  231 212 156 164 174 138 161 173 182 200 106 38...     Training\n",
              "3            4  24 32 36 30 32 23 19 20 30 41 21 22 32 34 21 1...     Training\n",
              "4            6  4 0 0 0 0 0 0 0 0 0 0 0 3 15 23 28 48 50 58 84...     Training\n",
              "...        ...                                                ...          ...\n",
              "35882        6  50 36 17 22 23 29 33 39 34 37 37 37 39 43 48 5...  PrivateTest\n",
              "35883        3  178 174 172 173 181 188 191 194 196 199 200 20...  PrivateTest\n",
              "35884        0  17 17 16 23 28 22 19 17 25 26 20 24 31 19 27 9...  PrivateTest\n",
              "35885        3  30 28 28 29 31 30 42 68 79 81 77 67 67 71 63 6...  PrivateTest\n",
              "35886        2  19 13 14 12 13 16 21 33 50 57 71 84 97 108 122...  PrivateTest\n",
              "\n",
              "[35887 rows x 3 columns]"
            ]
          },
          "execution_count": 10,
          "metadata": {},
          "output_type": "execute_result"
        }
      ],
      "source": [
        "data"
      ]
    },
    {
      "cell_type": "code",
      "execution_count": null,
      "metadata": {
        "id": "J_6qZgOhc7UY"
      },
      "outputs": [],
      "source": [
        "def convert2image(row):\n",
        "    pixels = row[1]  # In dataset,row heading was 'pixels'    \n",
        "    img = np.array(pixels.split())\n",
        "    img = img.reshape(48,48)  # dimensions of the image\n",
        "    image = np.zeros((48,48,1))  # empty matrix\n",
        "    image[:,:,0] = img\n",
        "    #image[:,:,1] = img\n",
        "    #image[:,:,2] = img\n",
        "    return image.astype(np.uint8) # return the image"
      ]
    },
    {
      "cell_type": "code",
      "execution_count": null,
      "metadata": {
        "id": "nd7HTFzSc7UZ"
      },
      "outputs": [],
      "source": [
        "count = 0  # initialize counter\n",
        "for i in range(0, data.shape[0]):  #data.shape[0] gives no. of rows\n",
        "  face = data.iloc[i]  # remove one row from the data\n",
        "  img = convert2image(face)# send this row of to the function \n",
        "  \n",
        "  cv2.imshow(\"image\", img) \n",
        "  cv2.waitKey(1)  # closes the image window when you press a key     \n",
        "  count+=1  # counter to save the images with different name         \n",
        "  cv2.imwrite('D:\\dl_dataset/facial_emotion_recognition/data/'+str(data.iloc[i][0])+'/'+ str(count) +'.jpg',img)\n",
        "  print(count)  "
      ]
    },
    {
      "cell_type": "code",
      "execution_count": null,
      "metadata": {
        "id": "5vV1sD6pc7Ua"
      },
      "outputs": [],
      "source": [
        ""
      ]
    },
    {
      "cell_type": "code",
      "execution_count": null,
      "metadata": {
        "id": "sxxqX-GNc7Ua"
      },
      "outputs": [],
      "source": [
        ""
      ]
    },
    {
      "cell_type": "code",
      "execution_count": null,
      "metadata": {
        "id": "RmnzdqI8c7Ua"
      },
      "outputs": [],
      "source": [
        "data_train_path='D:\\dl_dataset/face-expression-recognition-dataset/train'\n",
        "data_test_path='D:\\dl_dataset/face-expression-recognition-dataset/validation'"
      ]
    },
    {
      "cell_type": "code",
      "execution_count": null,
      "metadata": {
        "id": "M83UlVqtc7Ua"
      },
      "outputs": [],
      "source": [
        "def Dataset_loader(DIR, RESIZE, sigmaX=10):\n",
        "    IMG = []\n",
        "    read = lambda imname: np.asarray(Image.open(imname).convert(\"RGB\"))\n",
        "    for IMAGE_NAME in tqdm(os.listdir(DIR)):\n",
        "        PATH = os.path.join(DIR,IMAGE_NAME)\n",
        "        _, ftype = os.path.splitext(PATH)\n",
        "        img = read(PATH)\n",
        "           \n",
        "        img = cv2.resize(img, (RESIZE,RESIZE))\n",
        "           \n",
        "        IMG.append(np.array(img))\n",
        "    return IMG\n"
      ]
    },
    {
      "cell_type": "code",
      "execution_count": null,
      "metadata": {
        "id": "ULwc-QBWc7Uc"
      },
      "outputs": [],
      "source": [
        "import numpy as np\n",
        "from tqdm import tqdm\n",
        "import os\n",
        "import cv2\n",
        "from PIL import Image"
      ]
    },
    {
      "cell_type": "code",
      "execution_count": null,
      "metadata": {
        "id": "-pSJxIkMc7Uc"
      },
      "outputs": [],
      "source": [
        "data_train = np.array(Dataset_loader(data_path,48))"
      ]
    },
    {
      "cell_type": "code",
      "execution_count": null,
      "metadata": {
        "id": "BGzp3MSNc7Uc"
      },
      "outputs": [],
      "source": [
        ""
      ]
    },
    {
      "cell_type": "code",
      "execution_count": null,
      "metadata": {
        "id": "iTbcZse8c7Uc"
      },
      "outputs": [],
      "source": [
        "features=['Angry','Happy','Neutral','Sad','Surprise']"
      ]
    },
    {
      "cell_type": "code",
      "execution_count": null,
      "metadata": {
        "id": "AKUE4w8Pc7Uc"
      },
      "outputs": [],
      "source": [
        "for i in range(10):\n",
        "    cv2.imshow('',data_train[i])\n",
        "    cv2.waitKey(0)\n",
        "    print(features[labels[i]])"
      ]
    },
    {
      "cell_type": "code",
      "execution_count": null,
      "metadata": {
        "id": "S1EM1vKbc7Uc"
      },
      "outputs": [],
      "source": [
        "from sklearn.model_selection import train_test_split\n",
        "x_train, x_val, y_train, y_val = train_test_split(\n",
        "    data_train, labels, \n",
        "    test_size=0.2, \n",
        "    random_state=5\n",
        ")"
      ]
    },
    {
      "cell_type": "code",
      "execution_count": null,
      "metadata": {
        "id": "PPKbqSIhc7Ue",
        "outputId": "8dcf3d91-44de-41b1-d31d-585af50c4dd7"
      },
      "outputs": [
        {
          "name": "stderr",
          "output_type": "stream",
          "text": [
            "Using TensorFlow backend.\n"
          ]
        }
      ],
      "source": [
        "from keras.preprocessing.image import ImageDataGenerator\n",
        "train_generator = ImageDataGenerator(rescale=1./255,\n",
        "                                     rotation_range=40,\n",
        "                                     width_shift_range=0.2,\n",
        "                                     shear_range=0.2,\n",
        "                                     zoom_range=0.2,\n",
        "                                     horizontal_flip=True, \n",
        "                                     )\n",
        "test_generator = ImageDataGenerator(rescale=1./255,\n",
        "                                    zoom_range=0.2,\n",
        "                                    horizontal_flip=True,  )"
      ]
    },
    {
      "cell_type": "code",
      "execution_count": null,
      "metadata": {
        "id": "qhCDuSNHc7Ue",
        "outputId": "377e5dd0-d409-4eb1-a142-b5aaff04cc13"
      },
      "outputs": [
        {
          "name": "stdout",
          "output_type": "stream",
          "text": [
            "Found 24282 images belonging to 5 classes.\n",
            "Found 5937 images belonging to 5 classes.\n"
          ]
        }
      ],
      "source": [
        "train_gen=train_generator.flow_from_directory(data_train_path,\n",
        "                                              target_size=(48,48),\n",
        "                                              batch_size=32,\n",
        "                                              class_mode='categorical',\n",
        "                                              color_mode='grayscale'\n",
        "                                              )\n",
        "\n",
        "validation_gen=train_generator.flow_from_directory(data_test_path,\n",
        "                                                   target_size=(48,48),\n",
        "                                                   batch_size=32,\n",
        "                                                   class_mode='categorical'  ,\n",
        "                                                   color_mode='grayscale'\n",
        "                                                   )"
      ]
    },
    {
      "cell_type": "code",
      "execution_count": null,
      "metadata": {
        "id": "cl_rq3-vc7Uf"
      },
      "outputs": [],
      "source": [
        ""
      ]
    },
    {
      "cell_type": "code",
      "execution_count": null,
      "metadata": {
        "id": "wSKYDh53c7Uf"
      },
      "outputs": [],
      "source": [
        "from keras.models import Sequential\n",
        "from keras.optimizers import Adam"
      ]
    },
    {
      "cell_type": "code",
      "execution_count": null,
      "metadata": {
        "id": "Za6_t8Jnc7Uf"
      },
      "outputs": [],
      "source": [
        "#from keras.applications import DenseNet201 \n",
        "from keras.callbacks import Callback, ModelCheckpoint, ReduceLROnPlateau, TensorBoard\n",
        "#from keras.applications import DenseNet201\n",
        "from keras import layers"
      ]
    },
    {
      "cell_type": "code",
      "execution_count": null,
      "metadata": {
        "scrolled": true,
        "id": "--I3EJ78c7Uf"
      },
      "outputs": [],
      "source": [
        "from tensorflow.keras.regularizers import l1#, l2, l1_l2\n",
        "\n",
        "def build_model(backbone, lr=5e-4,reg=0.0002):\n",
        "    model = Sequential()\n",
        "    model.add(backbone)\n",
        "    model.add(layers.GlobalAveragePooling2D())\n",
        "    model.add(layers.Dropout(0.5))\n",
        "    model.add(layers.BatchNormalization())\n",
        "    model.add(layers.Dense(7, activation='sigmoid'))\n",
        "    \n",
        "    model.compile(\n",
        "        loss='categorical_crossentropy',\n",
        "        optimizer=Adam(lr=lr),\n",
        "        metrics=['accuracy']\n",
        "    )\n",
        "    return model\n",
        "\n",
        "resnet = DenseNet201(\n",
        "    weights='imagenet',\n",
        "    include_top=False,\n",
        "    input_shape=(48,48,3)\n",
        ")\n",
        "model = build_model(resnet ,lr = 4e-4,reg=1e-4 )\n",
        "model.summary()\n",
        "    \n",
        "    \n"
      ]
    },
    {
      "cell_type": "code",
      "execution_count": null,
      "metadata": {
        "id": "g5FdLTCsc7Uf"
      },
      "outputs": [],
      "source": [
        "from tensorflow import keras\n",
        "def build_model( lr=5e-4,reg=0.0002):\n",
        "    model=keras.models.Sequential()\n",
        "\n",
        "    model.add(keras.layers.Conv2D(16,(1,1),activation='relu',input_shape=(48,48,1)))\n",
        "    model.add(keras.layers.MaxPooling2D((2,2)))\n",
        "    model.add(keras.layers.Conv2D(32,(1,1),activation='relu'))\n",
        "    model.add(keras.layers.MaxPooling2D((2,2)))\n",
        "    model.add(keras.layers.Conv2D(64,(1,1),activation='relu'))\n",
        "    model.add(keras.layers.MaxPooling2D((2,2)))\n",
        "    model.add(keras.layers.Conv2D(128,(1,1),activation='relu'))\n",
        "    \n",
        "    model.add(keras.layers.MaxPooling2D((2,2)))\n",
        "    model.add(keras.layers.Conv2D(512,(1,1),activation='relu'))\n",
        "    \n",
        "    model.add(keras.layers.MaxPooling2D((2,2)))\n",
        "    model.add(keras.layers.Flatten())\n",
        "    model.add(keras.layers.Dropout(0.5))\n",
        "    model.add(keras.layers.Dense(256,activation='relu'))\n",
        "   \n",
        "    model.add(keras.layers.BatchNormalization())\n",
        "    model.add(keras.layers.Dense(7,activation='sigmoid'))\n",
        "    \n",
        "    model.compile(\n",
        "        loss='categorical_crossentropy',\n",
        "        optimizer=keras.optimizers.RMSprop(lr=1e-4),\n",
        "        metrics=['accuracy']\n",
        "    )\n",
        "    \n",
        "    return model\n",
        "model = build_model(lr = 4e-4,reg=1e-4 )\n",
        "model.summary()"
      ]
    },
    {
      "cell_type": "code",
      "execution_count": null,
      "metadata": {
        "id": "QSLl1pNCc7Ug"
      },
      "outputs": [],
      "source": [
        "from tensorflow.keras.regularizers import l1, l2, l1_l2\n",
        "def build_model( lr=5e-4,reg=0.0002):\n",
        "    model=Sequential()\n",
        "    model.add(layers.Conv2D(64, (3,3), input_shape=(48,48,1), padding=\"same\"))\n",
        "    model.add(layers.BatchNormalization())\n",
        "    model.add(layers.Activation(\"relu\"))\n",
        "    model.add(layers.MaxPooling2D(pool_size=(2,2),strides=(2,2)))\n",
        "    \n",
        "        \n",
        "    model.add(layers.Conv2D(128, (3,3), padding=\"same\"))\n",
        "    model.add(layers.BatchNormalization())\n",
        "    model.add(layers.Activation(\"relu\"))\n",
        "    model.add(layers.MaxPooling2D(pool_size=(2,2),strides=(2,2)))\n",
        "\n",
        "        \n",
        "    model.add(layers.Conv2D(256, (3,3), padding=\"same\"))\n",
        "    model.add(layers.BatchNormalization())\n",
        "    model.add(layers.Activation(\"relu\"))\n",
        "\n",
        "    model.add(layers.Conv2D(256, (3,3), padding=\"same\"))\n",
        "    model.add(layers.BatchNormalization())\n",
        "    model.add(layers.Activation(\"relu\"))\n",
        "    model.add(layers.MaxPooling2D(pool_size=(2,2),strides=(2,2)))\n",
        "\n",
        "        \n",
        "    model.add(layers.Conv2D(512, (3,3), padding=\"same\"))\n",
        "    model.add(layers.BatchNormalization())\n",
        "    model.add(layers.Activation(\"relu\"))\n",
        "        \n",
        "    model.add(layers.Conv2D(512, (3,3), padding=\"same\"))\n",
        "    model.add(layers.BatchNormalization())\n",
        "    model.add(layers.Activation(\"relu\"))\n",
        "    model.add(layers.MaxPooling2D(pool_size=(2,2),strides=(2,2)))\n",
        "\n",
        "       \n",
        "    model.add(layers.Conv2D(512, (3,3), padding=\"same\"))\n",
        "    model.add(layers.BatchNormalization())\n",
        "    model.add(layers.Activation(\"relu\"))\n",
        "    model.add(layers.Dropout(0.5))\n",
        "\n",
        "    model.add(layers.Conv2D(512, (3,3), padding=\"same\"))\n",
        "    model.add(layers.BatchNormalization())\n",
        "    model.add(layers.Activation(\"relu\"))\n",
        "    model.add(layers.Dropout(0.5))\n",
        "    model.add(layers.MaxPooling2D(pool_size=(2,2), padding=\"same\",strides=(1,1)))\n",
        "\n",
        "        \n",
        "    model.add(layers.Flatten())\n",
        "    model.add(layers.Dense(64, kernel_regularizer=l1_l2(reg)))\n",
        "    model.add(layers.BatchNormalization())\n",
        "    model.add(layers.Activation(\"relu\"))\n",
        "    model.add(layers.Dropout(0.5))\n",
        "    \n",
        "    model.add(layers.Dense(32, kernel_regularizer=l1_l2(reg)))\n",
        "    model.add(layers.BatchNormalization())\n",
        "    model.add(layers.Activation(\"relu\"))\n",
        "    model.add(layers.Dropout(0.5))\n",
        "    \n",
        "    model.add(layers.Dense(32, kernel_regularizer=l1_l2(reg)))\n",
        "    model.add(layers.BatchNormalization())\n",
        "    model.add(layers.Activation(\"relu\"))\n",
        "    model.add(layers.Dropout(0.5))\n",
        "\n",
        "        \n",
        "    model.add(layers.Dense(7, kernel_regularizer=l1_l2(reg)))\n",
        "    model.add(layers.Activation(\"softmax\"))\n",
        "    \n",
        "    model.compile(\n",
        "    loss='categorical_crossentropy',\n",
        "    optimizer=Adam(lr=lr),\n",
        "        metrics=['accuracy']\n",
        "        )\n",
        "    \n",
        "    return model\n",
        "model = build_model(lr = 4e-4,reg=1e-4 )\n",
        "model.summary()"
      ]
    },
    {
      "cell_type": "code",
      "execution_count": null,
      "metadata": {
        "id": "7nbiruxec7Ug",
        "outputId": "5aa63c7f-9e8c-4d57-d44a-1c2f60422031"
      },
      "outputs": [
        {
          "name": "stdout",
          "output_type": "stream",
          "text": [
            "Model: \"sequential_4\"\n",
            "_________________________________________________________________\n",
            "Layer (type)                 Output Shape              Param #   \n",
            "=================================================================\n",
            "conv2d_25 (Conv2D)           (None, 48, 48, 64)        640       \n",
            "_________________________________________________________________\n",
            "batch_normalization_33 (Batc (None, 48, 48, 64)        256       \n",
            "_________________________________________________________________\n",
            "activation_36 (Activation)   (None, 48, 48, 64)        0         \n",
            "_________________________________________________________________\n",
            "max_pooling2d_16 (MaxPooling (None, 24, 24, 64)        0         \n",
            "_________________________________________________________________\n",
            "conv2d_26 (Conv2D)           (None, 24, 24, 128)       73856     \n",
            "_________________________________________________________________\n",
            "batch_normalization_34 (Batc (None, 24, 24, 128)       512       \n",
            "_________________________________________________________________\n",
            "activation_37 (Activation)   (None, 24, 24, 128)       0         \n",
            "_________________________________________________________________\n",
            "max_pooling2d_17 (MaxPooling (None, 12, 12, 128)       0         \n",
            "_________________________________________________________________\n",
            "dropout_17 (Dropout)         (None, 12, 12, 128)       0         \n",
            "_________________________________________________________________\n",
            "conv2d_27 (Conv2D)           (None, 12, 12, 256)       295168    \n",
            "_________________________________________________________________\n",
            "batch_normalization_35 (Batc (None, 12, 12, 256)       1024      \n",
            "_________________________________________________________________\n",
            "activation_38 (Activation)   (None, 12, 12, 256)       0         \n",
            "_________________________________________________________________\n",
            "conv2d_28 (Conv2D)           (None, 12, 12, 256)       590080    \n",
            "_________________________________________________________________\n",
            "batch_normalization_36 (Batc (None, 12, 12, 256)       1024      \n",
            "_________________________________________________________________\n",
            "activation_39 (Activation)   (None, 12, 12, 256)       0         \n",
            "_________________________________________________________________\n",
            "max_pooling2d_18 (MaxPooling (None, 6, 6, 256)         0         \n",
            "_________________________________________________________________\n",
            "dropout_18 (Dropout)         (None, 6, 6, 256)         0         \n",
            "_________________________________________________________________\n",
            "conv2d_29 (Conv2D)           (None, 6, 6, 512)         1180160   \n",
            "_________________________________________________________________\n",
            "batch_normalization_37 (Batc (None, 6, 6, 512)         2048      \n",
            "_________________________________________________________________\n",
            "activation_40 (Activation)   (None, 6, 6, 512)         0         \n",
            "_________________________________________________________________\n",
            "conv2d_30 (Conv2D)           (None, 6, 6, 512)         2359808   \n",
            "_________________________________________________________________\n",
            "batch_normalization_38 (Batc (None, 6, 6, 512)         2048      \n",
            "_________________________________________________________________\n",
            "activation_41 (Activation)   (None, 6, 6, 512)         0         \n",
            "_________________________________________________________________\n",
            "max_pooling2d_19 (MaxPooling (None, 3, 3, 512)         0         \n",
            "_________________________________________________________________\n",
            "conv2d_31 (Conv2D)           (None, 3, 3, 512)         2359808   \n",
            "_________________________________________________________________\n",
            "batch_normalization_39 (Batc (None, 3, 3, 512)         2048      \n",
            "_________________________________________________________________\n",
            "activation_42 (Activation)   (None, 3, 3, 512)         0         \n",
            "_________________________________________________________________\n",
            "dropout_19 (Dropout)         (None, 3, 3, 512)         0         \n",
            "_________________________________________________________________\n",
            "conv2d_32 (Conv2D)           (None, 3, 3, 512)         2359808   \n",
            "_________________________________________________________________\n",
            "batch_normalization_40 (Batc (None, 3, 3, 512)         2048      \n",
            "_________________________________________________________________\n",
            "activation_43 (Activation)   (None, 3, 3, 512)         0         \n",
            "_________________________________________________________________\n",
            "dropout_20 (Dropout)         (None, 3, 3, 512)         0         \n",
            "_________________________________________________________________\n",
            "max_pooling2d_20 (MaxPooling (None, 3, 3, 512)         0         \n",
            "_________________________________________________________________\n",
            "flatten_4 (Flatten)          (None, 4608)              0         \n",
            "_________________________________________________________________\n",
            "dense_12 (Dense)             (None, 64)                294976    \n",
            "_________________________________________________________________\n",
            "batch_normalization_41 (Batc (None, 64)                256       \n",
            "_________________________________________________________________\n",
            "activation_44 (Activation)   (None, 64)                0         \n",
            "_________________________________________________________________\n",
            "dropout_21 (Dropout)         (None, 64)                0         \n",
            "_________________________________________________________________\n",
            "dense_13 (Dense)             (None, 32)                2080      \n",
            "_________________________________________________________________\n",
            "batch_normalization_42 (Batc (None, 32)                128       \n",
            "_________________________________________________________________\n",
            "activation_45 (Activation)   (None, 32)                0         \n",
            "_________________________________________________________________\n",
            "dropout_22 (Dropout)         (None, 32)                0         \n",
            "_________________________________________________________________\n",
            "dense_14 (Dense)             (None, 32)                1056      \n",
            "_________________________________________________________________\n",
            "batch_normalization_43 (Batc (None, 32)                128       \n",
            "_________________________________________________________________\n",
            "activation_46 (Activation)   (None, 32)                0         \n",
            "_________________________________________________________________\n",
            "dropout_23 (Dropout)         (None, 32)                0         \n",
            "_________________________________________________________________\n",
            "dense_15 (Dense)             (None, 5)                 165       \n",
            "_________________________________________________________________\n",
            "activation_47 (Activation)   (None, 5)                 0         \n",
            "=================================================================\n",
            "Total params: 9,529,125\n",
            "Trainable params: 9,523,365\n",
            "Non-trainable params: 5,760\n",
            "_________________________________________________________________\n"
          ]
        }
      ],
      "source": [
        "from tensorflow.keras.regularizers import l1, l2, l1_l2\n",
        "from keras.optimizers import Adam\n",
        "from keras.callbacks import EarlyStopping\n",
        "def build_model( lr=5e-4,reg=0.0003):  \n",
        "    model=Sequential()\n",
        "    model.add(layers.Conv2D(64, (3, 3), padding=\"same\",input_shape=(48,48,1)))\n",
        "    model.add(layers.BatchNormalization())\n",
        "    model.add(layers.Activation(\"relu\"))\n",
        "    model.add(layers.MaxPooling2D(pool_size=(2, 2), strides=(2, 2)))\n",
        "\n",
        "        \n",
        "    model.add(layers.Conv2D(128, (3, 3), padding=\"same\"))\n",
        "    model.add(layers.BatchNormalization())\n",
        "    model.add(layers.Activation(\"relu\"))\n",
        "    model.add(layers.MaxPooling2D(pool_size=(2, 2), strides=(2, 2)))\n",
        "    model.add(layers.Dropout(0.2))\n",
        "        \n",
        "    model.add(layers.Conv2D(256, (3, 3), padding=\"same\"))\n",
        "    model.add(layers.BatchNormalization())\n",
        "    model.add(layers.Activation(\"relu\"))\n",
        "\n",
        "    model.add(layers.Conv2D(256, (3, 3), padding=\"same\"))\n",
        "    model.add(layers.BatchNormalization())\n",
        "    model.add(layers.Activation(\"elu\"))\n",
        "    model.add(layers.MaxPooling2D(pool_size=(2, 2), strides=(2, 2)))\n",
        "    model.add(layers.Dropout(0.2))\n",
        "        \n",
        "    model.add(layers.Conv2D(512, (3, 3), padding=\"same\"))\n",
        "    model.add(layers.BatchNormalization())\n",
        "    model.add(layers.Activation(\"relu\"))\n",
        "        \n",
        "    model.add(layers.Conv2D(512, (3, 3), padding=\"same\"))\n",
        "    model.add(layers.BatchNormalization())\n",
        "    model.add(layers.Activation(\"relu\"))\n",
        "    model.add(layers.MaxPooling2D(pool_size=(2, 2), strides=(2, 2)))\n",
        "\n",
        "    model.add(layers.Conv2D(512, (3, 3), padding=\"same\"))\n",
        "    model.add(layers.BatchNormalization())\n",
        "    model.add(layers.Activation(\"relu\"))\n",
        "    model.add(layers.Dropout(0.2))\n",
        "\n",
        "    model.add(layers.Conv2D(512, (3, 3), padding=\"same\"))\n",
        "    model.add(layers.BatchNormalization())\n",
        "    model.add(layers.Activation(\"relu\"))\n",
        "    model.add(layers.Dropout(0.2))\n",
        "    model.add(layers.MaxPooling2D(pool_size=(2, 2), padding=\"same\", strides=(1, 1)))\n",
        "\n",
        "        \n",
        "    model.add(layers.Flatten())\n",
        "    \n",
        "    model.add(layers.Dense(64, kernel_regularizer=l1(reg)))\n",
        "    model.add(layers.BatchNormalization())\n",
        "    model.add(layers.Activation(\"relu\"))\n",
        "    model.add(layers.Dropout(0.2))\n",
        "        \n",
        "    model.add(layers.Dense(32, kernel_regularizer=l1(reg)))\n",
        "    model.add(layers.BatchNormalization())\n",
        "    model.add(layers.Activation(\"relu\"))\n",
        "    model.add(layers.Dropout(0.2))\n",
        "        \n",
        "        \n",
        "    model.add(layers.Dense(32, kernel_regularizer=l1(reg)))\n",
        "    model.add(layers.BatchNormalization())\n",
        "    model.add(layers.Activation(\"relu\"))\n",
        "    model.add(layers.Dropout(0.2))\n",
        "\n",
        "        \n",
        "    model.add(layers.Dense(5, kernel_regularizer=l1(reg)))\n",
        "    model.add(layers.Activation(\"softmax\"))\n",
        "    model.compile(\n",
        "    loss='categorical_crossentropy',\n",
        "    optimizer=Adam(lr=lr),\n",
        "        metrics=['accuracy']\n",
        "        )\n",
        "    return model\n",
        "\n",
        "model = build_model(lr = 4e-4,reg=2e-4 )\n",
        "model.summary()   "
      ]
    },
    {
      "cell_type": "code",
      "execution_count": null,
      "metadata": {
        "id": "-Vz2xPBXc7Ug"
      },
      "outputs": [],
      "source": [
        "learn_control = ReduceLROnPlateau(monitor='val_acc', patience=10, min_lr=1e-4)\n",
        "early_stopping= EarlyStopping(monitor='val_loss', verbose=1, patience=5, min_delta=1,\n",
        "    mode='auto',restore_best_weights=True\n",
        ")\n",
        "filepath=\"er_weights.best.hdf5\"\n",
        "checkpoint = ModelCheckpoint(filepath, monitor='val_acc', save_best_only=True, mode='max',verbose=1)\n",
        "\n",
        "history = model.fit_generator(\n",
        "    train_gen,\n",
        "    steps_per_epoch=143,\n",
        "    epochs=100,\n",
        "    validation_data=validation_gen,\n",
        "    callbacks=[early_stopping,learn_control, checkpoint]\n",
        ")"
      ]
    },
    {
      "cell_type": "code",
      "execution_count": null,
      "metadata": {
        "id": "Bg_rXMFqc7Uh",
        "outputId": "d903df4f-58e6-408d-f0f3-f41d1ab37865"
      },
      "outputs": [
        {
          "data": {
            "text/plain": [
              "<AxesSubplot:>"
            ]
          },
          "execution_count": 17,
          "metadata": {},
          "output_type": "execute_result"
        },
        {
          "data": {
            "image/png": "[encoded data removed]",
            "text/plain": [
              "<Figure size 432x288 with 1 Axes>"
            ]
          },
          "metadata": {
            "needs_background": "light"
          },
          "output_type": "display_data"
        },
        {
          "data": {
            "image/png": "[encoded data removed]",
            "text/plain": [
              "<Figure size 432x288 with 1 Axes>"
            ]
          },
          "metadata": {
            "needs_background": "light"
          },
          "output_type": "display_data"
        }
      ],
      "source": [
        "import pandas as pd\n",
        "history_df = pd.DataFrame(history.history)\n",
        "history_df[['loss', 'val_loss']].plot()\n",
        "\n",
        "history_df = pd.DataFrame(history.history)\n",
        "history_df[['accuracy', 'val_accuracy']].plot()"
      ]
    },
    {
      "cell_type": "code",
      "execution_count": null,
      "metadata": {
        "id": "s2FuA3A6c7Uh"
      },
      "outputs": [],
      "source": [
        "import pickle"
      ]
    },
    {
      "cell_type": "code",
      "execution_count": null,
      "metadata": {
        "id": "-LGybmTCc7Uh"
      },
      "outputs": [],
      "source": [
        "model.save('emotion_recognition_model2.h5')"
      ]
    },
    {
      "cell_type": "code",
      "execution_count": null,
      "metadata": {
        "id": "6sackjFvc7Ui"
      },
      "outputs": [],
      "source": [
        "from tensorflow import keras"
      ]
    },
    {
      "cell_type": "code",
      "execution_count": null,
      "metadata": {
        "id": "wSdeVsLac7Ui"
      },
      "outputs": [],
      "source": [
        "models=keras.models.load_model('emotion_recognition_model1.h5')"
      ]
    },
    {
      "cell_type": "code",
      "execution_count": null,
      "metadata": {
        "id": "pqobNa5ac7Ui"
      },
      "outputs": [],
      "source": [
        ""
      ]
    },
    {
      "cell_type": "code",
      "execution_count": null,
      "metadata": {
        "id": "bAsCs6vYc7Ui"
      },
      "outputs": [],
      "source": [
        "test_gen=test_generator.flow_from_directory(data_test_path,\n",
        "                                                 target_size=(48,48),\n",
        "                                                 batch_size=16,\n",
        "                                                class_mode='categorical',\n",
        "                                                subset='training',\n",
        "                                                color_mode='grayscale'\n",
        "                                                 )"
      ]
    },
    {
      "cell_type": "code",
      "execution_count": null,
      "metadata": {
        "id": "bH8J7JVBc7Ui"
      },
      "outputs": [],
      "source": [
        "y_val=test_gen.labels\n",
        "print(y_val)\n",
        "print(len(y_val))"
      ]
    },
    {
      "cell_type": "code",
      "execution_count": null,
      "metadata": {
        "id": "CdO--K-mc7Uj"
      },
      "outputs": [],
      "source": [
        "Y_pred_tta=model.predict(test_gen)"
      ]
    },
    {
      "cell_type": "code",
      "execution_count": null,
      "metadata": {
        "id": "q-YJ50zlc7Uj"
      },
      "outputs": [],
      "source": [
        "print(Y_pred_tta)"
      ]
    },
    {
      "cell_type": "code",
      "execution_count": null,
      "metadata": {
        "id": "xStusnxsc7Uj"
      },
      "outputs": [],
      "source": [
        "import itertools\n",
        "from sklearn.metrics import classification_report\n",
        "classification_report( np.argmax(y_val, axis=1), np.argmax(Y_pred_tta, axis=1))\n",
        "\n",
        "from sklearn.metrics import confusion_matrix\n",
        "\n",
        "def plot_confusion_matrix(cm, classes,\n",
        "                          normalize=False,\n",
        "                          title='Confusion matrix',\n",
        "                          cmap=plt.cm.Blues):\n",
        "    if normalize:\n",
        "        cm = cm.astype('float') / cm.sum(axis=1)[:, np.newaxis]\n",
        "        print(\"Normalized confusion matrix\")\n",
        "    else:\n",
        "        print('Confusion matrix, without normalization')\n",
        "\n",
        "    print(cm)\n",
        "\n",
        "    plt.imshow(cm, interpolation='nearest', cmap=cmap)\n",
        "    plt.title(title)\n",
        "    plt.colorbar()\n",
        "    tick_marks = np.arange(len(classes))\n",
        "    plt.xticks(tick_marks, classes, rotation=55)\n",
        "    plt.yticks(tick_marks, classes)\n",
        "    fmt = '.2f' if normalize else 'd'\n",
        "    thresh = cm.max() / 2.\n",
        "    for i, j in itertools.product(range(cm.shape[0]), range(cm.shape[1])):\n",
        "        plt.text(j, i, format(cm[i, j], fmt),\n",
        "                 horizontalalignment=\"center\",\n",
        "                 color=\"white\" if cm[i, j] > thresh else \"black\")\n",
        "\n",
        "    plt.ylabel('True label')\n",
        "    plt.xlabel('Predicted label')\n",
        "    plt.tight_layout()\n",
        "\n",
        "cm = confusion_matrix(np.argmax(y_val, axis=1), np.argmax(Y_pred_tta, axis=1))\n",
        "\n",
        "cm_plot_label =['actual','predicted']\n",
        "plot_confusion_matrix(cm, cm_plot_label, title ='Confusion Metrix for Skin Cancer')"
      ]
    },
    {
      "cell_type": "code",
      "execution_count": null,
      "metadata": {
        "id": "6E4Kcxrec7Uj"
      },
      "outputs": [],
      "source": [
        "import cv2\n",
        "import numpy as np"
      ]
    },
    {
      "cell_type": "code",
      "execution_count": null,
      "metadata": {
        "id": "hqDYlzBcc7Uk"
      },
      "outputs": [],
      "source": [
        "face_Cascade=cv2.CascadeClassifier('D:\\haarcascade_frontalface_default.xml')\n",
        "cap=cv2.VideoCapture(0)\n",
        "\n",
        "while(True):\n",
        "    ret,frame=cap.read()\n",
        "    cv2.imshow('p',frame)\n",
        "\n",
        "    gray=cv2.cvtColor(frame,cv2.COLOR_BGR2GRAY)\n",
        "    faces=face_Cascade.detectMultiScale(gray,1.1,4)\n",
        "    for (x,y,w,h) in faces:\n",
        "        img=frame[y:y+h,x:x+w]\n",
        "        \n",
        "        print(img.shape)\n",
        "        img=cv2.resize(img,(48,48))\n",
        "        cv2.imshow('face',img)\n",
        "        image = np.expand_dims(img, axis=0)\n",
        "        '''\n",
        "        img=np.reshape(img, (48,48))\n",
        "        #pixels = row[1]  # In dataset,row heading was 'pixels'    \n",
        "        img = np.array(img.split()) \n",
        "        image = np.zeros((48,48,3))  # empty matrix\n",
        "        image[:,:,0] = img\n",
        "        image[:,:,1] = img\n",
        "        image[:,:,2] = img\n",
        "        imag=image.astype(np.uint8)\n",
        "        '''\n",
        "        flag=models.predict(image)\n",
        "        print(flag)\n",
        "        print(0.6679435e-09)\n",
        "        cv2.rectangle(frame,(x,y),(x+w,y+h),(0,255,255),1)\n",
        "        #cv2.putText(frame,features[flag],(x,y),cv2.FONT_HERSHEY_PLAIN,1.5,(0,255,0),2)\n",
        "        cv2.imshow(\"detection\",frame)\n",
        "        \n",
        "    if cv2.waitKey(1) & 0xFF == ord('q'):\n",
        "        break\n",
        "\n",
        "cv2.destroyAllWindows()\n",
        "        \n",
        "        "
      ]
    },
    {
      "cell_type": "code",
      "execution_count": null,
      "metadata": {
        "id": "Q4IycByQc7Uk"
      },
      "outputs": [],
      "source": [
        ""
      ]
    }
  ],
  "metadata": {
    "kernelspec": {
      "display_name": "Python 3",
      "language": "python",
      "name": "python3"
    },
    "language_info": {
      "codemirror_mode": {
        "name": "ipython",
        "version": 3
      },
      "file_extension": ".py",
      "mimetype": "text/x-python",
      "name": "python",
      "nbconvert_exporter": "python",
      "pygments_lexer": "ipython3",
      "version": "3.7.7"
    },
    "colab": {
      "name": "emotion_recognition_cnn.ipynb",
      "provenance": []
    }
  },
  "nbformat": 4,
  "nbformat_minor": 0
}